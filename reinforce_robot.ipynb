{
 "cells": [
  {
   "cell_type": "code",
   "execution_count": null,
   "id": "8e9e9ff7",
   "metadata": {},
   "outputs": [],
   "source": [
    "import numpy as np\n",
    "\n",
    "class robo_world():\n",
    "    \n",
    "    def __init__(self):\n",
    "        self.reset()\n",
    "        \n",
    "    def reset(self):\n",
    "        self.ground = [1,3,0,2]\n",
    "        self.treasure = 1\n",
    "        self.robo_position = 2\n",
    "        self.done = False\n",
    "        return np.array([2, 1])\n",
    "        \n",
    "    def step(self, move):\n",
    "        # 0 - left, 1 - rigth\n",
    "        reward = -1\n",
    "        rp = self.robo_position\n",
    "        if move == 0:\n",
    "            rp -= 1\n",
    "        else:\n",
    "            rp += 1\n",
    "        \n",
    "        next_state = self.ground[rp]\n",
    "        \n",
    "        if next_state == 2:\n",
    "            self.done = True\n",
    "            reward = 3\n",
    "        elif next_state == 3:\n",
    "            if self.treasure == 1:\n",
    "                reward = 10\n",
    "                self.treasure = 0\n",
    "            else:\n",
    "                reward = -1\n",
    "        elif next_state == 1:\n",
    "            self.done = True\n",
    "            reward = -10\n",
    "            \n",
    "        self.robo_position = rp\n",
    "        \n",
    "        return [np.array([rp, self.treasure]), reward, self.done]\n",
    "            \n",
    "        \n",
    "    \n",
    "    \n",
    "            "
   ]
  },
  {
   "cell_type": "code",
   "execution_count": null,
   "id": "355d4c99",
   "metadata": {},
   "outputs": [],
   "source": [
    "rw = robo_world()\n",
    "rw.reset()"
   ]
  },
  {
   "cell_type": "code",
   "execution_count": null,
   "id": "a3803569",
   "metadata": {},
   "outputs": [],
   "source": [
    "print(rw.step(1))"
   ]
  },
  {
   "cell_type": "code",
   "execution_count": null,
   "id": "637bc31a",
   "metadata": {},
   "outputs": [],
   "source": [
    "import random\n",
    "\n",
    "action_set = [0,1]\n",
    "rw = robo_world()\n",
    "for i in range(10):\n",
    "    rw.reset()\n",
    "    print(\"Trajectory: \",i)\n",
    "    total_reward = 0\n",
    "    for i in range(10):\n",
    "        action = random.choice(action_set)\n",
    "        state, reward, is_done = rw.move(action)\n",
    "    #     print(position)\n",
    "        total_reward += reward\n",
    "        print([position,treasure, reward, is_done])\n",
    "        if is_done: \n",
    "            print('total_reward', total_reward)\n",
    "            break"
   ]
  },
  {
   "cell_type": "code",
   "execution_count": null,
   "id": "d89e92fc",
   "metadata": {},
   "outputs": [],
   "source": [
    "from torch.distributions import Categorical\n",
    "import gym\n",
    "import numpy as np\n",
    "import torch\n",
    "import torch.nn as nn\n",
    "import torch.optim as optim\n",
    "\n",
    "gamma = 0.99\n",
    "\n",
    "class Pi(nn.Module):\n",
    "    def __init__(self, in_dim, out_dim):\n",
    "        super(Pi, self).__init__()\n",
    "        layers = [\n",
    "        nn.Linear(in_dim, out_dim),    \n",
    "#         nn.Linear(in_dim, 2),\n",
    "#         nn.ReLU(),\n",
    "#         nn.Linear(2, out_dim),\n",
    "        ]\n",
    "        self.model = nn.Sequential(*layers)\n",
    "        self.onpolicy_reset()\n",
    "        self.train() # установить режим обучения\n",
    "\n",
    "    def onpolicy_reset(self):\n",
    "        self.log_probs = []\n",
    "        self.rewards = []\n",
    "\n",
    "    def forward(self, x):\n",
    "        pdparam = self.model(x)\n",
    "        return pdparam\n",
    "\n",
    "    def act(self, state):\n",
    "        x = torch.from_numpy(state.astype(np.float32)) # преобразование в тензор\n",
    "        pdparam = self.forward(x) # прямой проход\n",
    "        pd = Categorical(logits=pdparam) # вероятностное распределен34 \n",
    "        action = pd.sample() # pi(a|s) выбор действия по распределению pd\n",
    "        log_prob = pd.log_prob(action) # логарифм вероятности pi(a|s)\n",
    "        self.log_probs.append(log_prob) # сохраняем для обучения\n",
    "        return action.item()\n",
    "\n",
    "def train(pi, optimizer):\n",
    "    # Внутренний цикл градиентного восхождения в алгоритме REINFORCE\n",
    "    T = len(pi.rewards)\n",
    "    rets = np.empty(T, dtype=np.float32) # отдачи\n",
    "    future_ret = 0.0\n",
    "    # эффективное вычисление отдачи\n",
    "    for t in reversed(range(T)):\n",
    "        future_ret = pi.rewards[t] + gamma * future_ret\n",
    "        rets[t] = future_ret\n",
    "    rets = torch.tensor(rets)\n",
    "    log_probs = torch.stack(pi.log_probs)\n",
    "    loss = - log_probs * rets # член градиента; знак минуса для максимизации\n",
    "    loss = torch.sum(loss)\n",
    "    optimizer.zero_grad()\n",
    "    loss.backward() # обратное распространение, вычисление градиентов\n",
    "    optimizer.step() # градиентное восхождение, обновление весов\n",
    "    return loss"
   ]
  },
  {
   "cell_type": "code",
   "execution_count": 136,
   "id": "c3d516bc",
   "metadata": {},
   "outputs": [],
   "source": [
    "# env = gym.make('CartPole-v0')\n",
    "env = robo_world()\n",
    "in_dim = 2 #env.observation_space.shape[0] # 4\n",
    "out_dim = 2 #env.action_space.n # 2\n",
    "pi = Pi(in_dim, out_dim) # стратегия pi_theta для REINFORCE\n",
    "optimizer = optim.Adam(pi.parameters(), lr=0.1)\n",
    "\n",
    "loss_arr = []\n",
    "rew = []\n",
    "for epi in range(300):\n",
    "    state = env.reset()\n",
    "    for t in range(200): # 200 — максимальное количество шагов в cartpole\n",
    "        action = pi.act(state)\n",
    "        state, reward, done = env.step(action)\n",
    "        pi.rewards.append(reward)\n",
    "#         env.render()\n",
    "        if done:\n",
    "            break\n",
    "    loss = train(pi, optimizer) # обучение в эпизоде\n",
    "    loss_arr.append(loss)\n",
    "    total_reward = sum(pi.rewards)\n",
    "#     print(total_reward)\n",
    "    rew.append(total_reward)\n",
    "    solved = total_reward > 11.0\n",
    "    pi.onpolicy_reset() # обучение по актуальному опыту: очистить память после обучения\n",
    "#     print(f'Episode {epi}, loss: {loss}, \\\n",
    "#     total_reward: {total_reward}, solved: {solved}')"
   ]
  },
  {
   "cell_type": "code",
   "execution_count": null,
   "id": "93202f18",
   "metadata": {},
   "outputs": [],
   "source": [
    "rew"
   ]
  },
  {
   "cell_type": "code",
   "execution_count": 137,
   "id": "3799a337",
   "metadata": {},
   "outputs": [
    {
     "name": "stdout",
     "output_type": "stream",
     "text": [
      "Using matplotlib backend: Qt5Agg\n"
     ]
    },
    {
     "data": {
      "text/plain": [
       "[<matplotlib.lines.Line2D at 0x7f68c473d710>]"
      ]
     },
     "execution_count": 137,
     "metadata": {},
     "output_type": "execute_result"
    }
   ],
   "source": [
    "%matplotlib auto\n",
    "import matplotlib.pyplot as plt\n",
    "plt.plot(rew)"
   ]
  },
  {
   "cell_type": "code",
   "execution_count": 143,
   "id": "348263f9",
   "metadata": {},
   "outputs": [
    {
     "name": "stdout",
     "output_type": "stream",
     "text": [
      "1\n"
     ]
    }
   ],
   "source": [
    "state = env.reset()\n",
    "print(pi.act(np.array([1,0])))"
   ]
  },
  {
   "cell_type": "code",
   "execution_count": 140,
   "id": "4db2bb78",
   "metadata": {},
   "outputs": [
    {
     "data": {
      "text/plain": [
       "array([2, 1])"
      ]
     },
     "execution_count": 140,
     "metadata": {},
     "output_type": "execute_result"
    }
   ],
   "source": [
    "state"
   ]
  }
 ],
 "metadata": {
  "kernelspec": {
   "display_name": "Python 3 (ipykernel)",
   "language": "python",
   "name": "python3"
  },
  "language_info": {
   "codemirror_mode": {
    "name": "ipython",
    "version": 3
   },
   "file_extension": ".py",
   "mimetype": "text/x-python",
   "name": "python",
   "nbconvert_exporter": "python",
   "pygments_lexer": "ipython3",
   "version": "3.7.3"
  }
 },
 "nbformat": 4,
 "nbformat_minor": 5
}
