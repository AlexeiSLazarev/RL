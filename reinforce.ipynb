{
 "cells": [
  {
   "cell_type": "code",
   "execution_count": null,
   "metadata": {},
   "outputs": [],
   "source": [
    "from torch.distributions import Categorical\n",
    "import gym\n",
    "import numpy as np\n",
    "import torch\n",
    "import torch.nn as nn\n",
    "import torch.optim as optim"
   ]
  },
  {
   "cell_type": "code",
   "execution_count": null,
   "metadata": {},
   "outputs": [],
   "source": [
    "gamma = 0.99\n",
    "\n",
    "class Pi(nn.Module):\n",
    "    def __init__(self, in_dim, out_dim):\n",
    "        super(Pi, self).__init__()\n",
    "        layers = [\n",
    "        nn.Linear(in_dim, 32),\n",
    "        nn.ReLU(),\n",
    "        nn.Linear(32, out_dim),\n",
    "        ]\n",
    "        self.model = nn.Sequential(*layers)\n",
    "        self.onpolicy_reset()\n",
    "        self.train() # установить режим обучения\n",
    "\n",
    "    def onpolicy_reset(self):\n",
    "        self.log_probs = []\n",
    "        self.rewards = []\n",
    "\n",
    "    def forward(self, x):\n",
    "        pdparam = self.model(x)\n",
    "        return pdparam\n",
    "\n",
    "    def act(self, state):\n",
    "        x = torch.from_numpy(state.astype(np.float32)) # преобразование в тензор\n",
    "        pdparam = self.forward(x) # прямой проход\n",
    "        pd = Categorical(logits=pdparam) # вероятностное распределен34 \n",
    "        action = pd.sample() # pi(a|s) выбор действия по распределению pd\n",
    "        log_prob = pd.log_prob(action) # логарифм вероятности pi(a|s)\n",
    "        self.log_probs.append(log_prob) # сохраняем для обучения\n",
    "        return action.item()\n",
    "\n",
    "def train(pi, optimizer):\n",
    "    # Внутренний цикл градиентного восхождения в алгоритме REINFORCE\n",
    "    T = len(pi.rewards)\n",
    "    rets = np.empty(T, dtype=np.float32) # отдачи\n",
    "    future_ret = 0.0\n",
    "    # эффективное вычисление отдачи\n",
    "    for t in reversed(range(T)):\n",
    "        future_ret = pi.rewards[t] + gamma * future_ret\n",
    "        rets[t] = future_ret\n",
    "    rets = torch.tensor(rets)\n",
    "    log_probs = torch.stack(pi.log_probs)\n",
    "    loss = - log_probs * rets # член градиента; знак минуса для максимизации\n",
    "    loss = torch.sum(loss)\n",
    "    optimizer.zero_grad()\n",
    "    loss.backward() # обратное распространение, вычисление градиентов\n",
    "    optimizer.step() # градиентное восхождение, обновление весов\n",
    "    return loss\n",
    "\n",
    "def main():\n",
    "    env = gym.make('CartPole-v0')\n",
    "    in_dim = env.observation_space.shape[0] # 4\n",
    "    out_dim = env.action_space.n # 2\n",
    "    pi = Pi(in_dim, out_dim) # стратегия pi_theta для REINFORCE\n",
    "    optimizer = optim.Adam(pi.parameters(), lr=0.01)\n",
    "    for epi in range(300):\n",
    "        state = env.reset()\n",
    "        for t in range(200): # 200 — максимальное количество шагов в cartpole\n",
    "            action = pi.act(state)\n",
    "            state, reward, done, _ = env.step(action)\n",
    "            pi.rewards.append(reward)\n",
    "            env.render()\n",
    "            if done:\n",
    "                break\n",
    "        loss = train(pi, optimizer) # обучение в эпизоде\n",
    "        total_reward = sum(pi.rewards)\n",
    "        solved = total_reward > 195.0\n",
    "        pi.onpolicy_reset() # обучение по актуальному опыту: очистить память после обучения\n",
    "        print(f'Episode {epi}, loss: {loss}, \\\n",
    "        total_reward: {total_reward}, solved: {solved}')"
   ]
  },
  {
   "cell_type": "code",
   "execution_count": null,
   "metadata": {},
   "outputs": [],
   "source": [
    "env = gym.make('CartPole-v0')\n",
    "in_dim = env.observation_space.shape[0] # 4\n",
    "out_dim = env.action_space.n # 2\n",
    "pi = Pi(in_dim, out_dim) # стратегия pi_theta для REINFORCE\n",
    "optimizer = optim.Adam(pi.parameters(), lr=0.01)"
   ]
  },
  {
   "cell_type": "code",
   "execution_count": null,
   "metadata": {},
   "outputs": [],
   "source": [
    "for epi in range(1250):\n",
    "    state = env.reset()\n",
    "    for t in range(200): # 200 — максимальное количество шагов в cartpole\n",
    "        action = pi.act(state)\n",
    "        state, reward, done, _ = env.step(action)\n",
    "        pi.rewards.append(reward)\n",
    "#         env.render()\n",
    "        if done:\n",
    "            break\n",
    "    loss = train(pi, optimizer) # обучение в эпизоде\n",
    "    total_reward = sum(pi.rewards)\n",
    "    solved = total_reward > 195.0\n",
    "    pi.onpolicy_reset() # обучение по актуальному опыту: очистить память после обучения\n",
    "    print(f'Episode {epi}, loss: {loss}, \\\n",
    "    total_reward: {total_reward}, solved: {solved}')"
   ]
  },
  {
   "cell_type": "code",
   "execution_count": null,
   "metadata": {},
   "outputs": [],
   "source": [
    "env = gym.make('CartPole-v0')\n",
    "\n",
    "for epi in range(10):\n",
    "    state = env.reset()\n",
    "    for t in range(200): # 200 — максимальное количество шагов в cartpole\n",
    "        action = pi.act(state)\n",
    "        state, reward, done, _ = env.step(action)\n",
    "        pi.rewards.append(reward)\n",
    "        env.render()\n",
    "        if done:\n",
    "            break"
   ]
  },
  {
   "cell_type": "code",
   "execution_count": null,
   "metadata": {},
   "outputs": [],
   "source": [
    "# conda install -c conda-forge gym\n",
    "# !pip install pyglet"
   ]
  }
 ],
 "metadata": {
  "kernelspec": {
   "display_name": "Python 3 (ipykernel)",
   "language": "python",
   "name": "python3"
  },
  "language_info": {
   "codemirror_mode": {
    "name": "ipython",
    "version": 3
   },
   "file_extension": ".py",
   "mimetype": "text/x-python",
   "name": "python",
   "nbconvert_exporter": "python",
   "pygments_lexer": "ipython3",
   "version": "3.10.4"
  }
 },
 "nbformat": 4,
 "nbformat_minor": 4
}
